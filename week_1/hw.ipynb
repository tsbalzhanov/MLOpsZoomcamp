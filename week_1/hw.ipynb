{
 "cells": [
  {
   "cell_type": "code",
   "execution_count": 1,
   "id": "80b877fe-9258-4155-94d8-73a7be37571c",
   "metadata": {},
   "outputs": [],
   "source": [
    "import pathlib\n",
    "\n",
    "import pandas as pd\n",
    "import sklearn.feature_extraction\n",
    "import sklearn.linear_model\n",
    "import sklearn.metrics"
   ]
  },
  {
   "cell_type": "markdown",
   "id": "2cfa0392-7305-4680-8d14-2be62b14fb5f",
   "metadata": {},
   "source": [
    "## Q1. Downloading the data"
   ]
  },
  {
   "cell_type": "code",
   "execution_count": 2,
   "id": "0ba0579a-c0ba-4867-ba71-2a127565b58d",
   "metadata": {},
   "outputs": [],
   "source": [
    "data_dir = pathlib.Path('data')\n",
    "data_dir.mkdir(exist_ok=True)"
   ]
  },
  {
   "cell_type": "code",
   "execution_count": 3,
   "id": "018a9663-544d-4342-9762-3ded8dc03b15",
   "metadata": {},
   "outputs": [],
   "source": [
    "!wget -q https://d37ci6vzurychx.cloudfront.net/trip-data/yellow_tripdata_2023-01.parquet -O {data_dir}/yellow_tripdata_2023-01.parquet\n",
    "!wget -q https://d37ci6vzurychx.cloudfront.net/trip-data/yellow_tripdata_2023-02.parquet -O {data_dir}/yellow_tripdata_2023-02.parquet"
   ]
  },
  {
   "cell_type": "code",
   "execution_count": 4,
   "id": "bc451410-33bd-4a90-a3a4-9aba1bab80a8",
   "metadata": {},
   "outputs": [
    {
     "name": "stdout",
     "output_type": "stream",
     "text": [
      "Number of columns in initial data: 19\n"
     ]
    }
   ],
   "source": [
    "jan_trips = pd.read_parquet(data_dir / 'yellow_tripdata_2023-01.parquet')\n",
    "print(f'Number of columns in initial data: {len(jan_trips.columns)}')"
   ]
  },
  {
   "cell_type": "markdown",
   "id": "92d4cbdb-1504-4dcc-93fc-c1e8493d76b9",
   "metadata": {},
   "source": [
    "### Q2. Computing duration"
   ]
  },
  {
   "cell_type": "code",
   "execution_count": 5,
   "id": "59a50373-9464-4916-9685-104be175fe72",
   "metadata": {},
   "outputs": [
    {
     "name": "stdout",
     "output_type": "stream",
     "text": [
      "Standard deviation of trip duration in January: 41.63 minutes\n"
     ]
    }
   ],
   "source": [
    "def calc_duration(df: pd.DataFrame) -> None:\n",
    "    df['duration'] = (df['tpep_dropoff_datetime'] - df['tpep_pickup_datetime']).dt.seconds / 60\n",
    "\n",
    "calc_duration(jan_trips)\n",
    "\n",
    "print(f'Standard deviation of trip duration in January: {jan_trips['duration'].std():.2f} minutes')"
   ]
  },
  {
   "cell_type": "markdown",
   "id": "63826926-202b-483c-87af-125c2adb1535",
   "metadata": {},
   "source": [
    "### Q3. Dropping outliers"
   ]
  },
  {
   "cell_type": "code",
   "execution_count": 6,
   "id": "7c60cd2f-7480-459b-ba63-04dea31d7541",
   "metadata": {},
   "outputs": [
    {
     "name": "stdout",
     "output_type": "stream",
     "text": [
      "Percentage of remaining entries: 98.1%\n"
     ]
    }
   ],
   "source": [
    "def filter_outliers(df: pd.DataFrame) -> pd.DataFrame:\n",
    "    return df[(1 <= df['duration']) & (df['duration'] <= 60)]\n",
    "\n",
    "num_initial_entries = len(jan_trips)\n",
    "\n",
    "jan_trips = filter_outliers(jan_trips)\n",
    "\n",
    "num_remaining_entries = len(jan_trips)\n",
    "print(f'Percentage of remaining entries: {100 * num_remaining_entries / num_initial_entries:.1f}%')"
   ]
  },
  {
   "cell_type": "markdown",
   "id": "c5ca98f5-d394-4645-b95c-42ddb2bd2af1",
   "metadata": {},
   "source": [
    "### Q4. One-hot encoding"
   ]
  },
  {
   "cell_type": "code",
   "execution_count": 7,
   "id": "da565144-c74d-4d70-a45f-2f6f07bd0aeb",
   "metadata": {},
   "outputs": [
    {
     "name": "stdout",
     "output_type": "stream",
     "text": [
      "Feature matrix shape: (3009176, 515)\n"
     ]
    }
   ],
   "source": [
    "feature_cols = ['PULocationID', 'DOLocationID']\n",
    "target_col = 'duration'\n",
    "selected_cols = feature_cols + [target_col]\n",
    "\n",
    "\n",
    "def prepare_features(df: pd.DataFrame) -> pd.DataFrame:\n",
    "    df = df[selected_cols]\n",
    "    for col in feature_cols:\n",
    "        df.loc[:, col] = df[col].astype(str)\n",
    "    return df\n",
    "\n",
    "jan_trips = prepare_features(jan_trips)\n",
    "jan_features_dict = jan_trips[feature_cols].to_dict('records')\n",
    "vectorizer = sklearn.feature_extraction.DictVectorizer()\n",
    "vectorizer.fit(jan_features_dict)\n",
    "\n",
    "jan_features = vectorizer.transform(jan_features_dict)\n",
    "print(f'Feature matrix shape: {jan_features.shape}')"
   ]
  },
  {
   "cell_type": "markdown",
   "id": "e12de679-d6a3-4663-a618-441d5091c844",
   "metadata": {},
   "source": [
    "### Q5. Training a model"
   ]
  },
  {
   "cell_type": "code",
   "execution_count": 8,
   "id": "9569406b-6393-42a1-b4b7-dbf759789524",
   "metadata": {},
   "outputs": [
    {
     "name": "stdout",
     "output_type": "stream",
     "text": [
      "RMSE on January data: 7.65\n"
     ]
    }
   ],
   "source": [
    "linear_model = sklearn.linear_model.LinearRegression()\n",
    "linear_model.fit(jan_features, jan_trips[target_col])\n",
    "\n",
    "jan_rmse = sklearn.metrics.root_mean_squared_error(jan_trips[target_col], linear_model.predict(jan_features))\n",
    "print(f'RMSE on January data: {jan_rmse:.2f}')"
   ]
  },
  {
   "cell_type": "markdown",
   "id": "0dad7518-83c3-4ffe-b19e-a004a4e976df",
   "metadata": {},
   "source": [
    "### Q6. Evaluating the model"
   ]
  },
  {
   "cell_type": "code",
   "execution_count": 9,
   "id": "9f78ccf9-2e71-497c-a826-ad7e9a2f39c2",
   "metadata": {},
   "outputs": [
    {
     "name": "stdout",
     "output_type": "stream",
     "text": [
      "RMSE on February data: 7.81\n"
     ]
    }
   ],
   "source": [
    "feb_trips = pd.read_parquet(data_dir / 'yellow_tripdata_2023-02.parquet')\n",
    "\n",
    "calc_duration(feb_trips)\n",
    "feb_trips = filter_outliers(feb_trips)\n",
    "feb_trips = prepare_features(feb_trips)\n",
    "\n",
    "feb_features = vectorizer.transform(feb_trips[feature_cols].to_dict('records'))\n",
    "\n",
    "feb_rmse = sklearn.metrics.root_mean_squared_error(feb_trips[target_col], linear_model.predict(feb_features))\n",
    "print(f'RMSE on February data: {feb_rmse:.2f}')"
   ]
  }
 ],
 "metadata": {
  "kernelspec": {
   "display_name": "Python 3 (ipykernel)",
   "language": "python",
   "name": "python3"
  },
  "language_info": {
   "codemirror_mode": {
    "name": "ipython",
    "version": 3
   },
   "file_extension": ".py",
   "mimetype": "text/x-python",
   "name": "python",
   "nbconvert_exporter": "python",
   "pygments_lexer": "ipython3",
   "version": "3.12.0"
  }
 },
 "nbformat": 4,
 "nbformat_minor": 5
}
